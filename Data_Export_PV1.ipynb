{
 "cells": [
  {
   "cell_type": "markdown",
   "metadata": {},
   "source": [
    "# Economic Index Data\n",
    "Data Source/Manipulation-\n",
    "1. past 10 years of country wise economic index data was downloaded as a CSV file from heritage.org.\n",
    "2. Link-https://www.heritage.org/index/explore?view=by-region-country-year&u=636907699184875439\n",
    "3. Individual files were mapped with their corresponding two level and three level country codes and corresponding dialing codes using vlookups"
   ]
  },
  {
   "cell_type": "code",
   "execution_count": 34,
   "metadata": {},
   "outputs": [],
   "source": [
    "# Importing dependencies\n",
    "\n",
    "import pandas as pd\n",
    "from sqlalchemy import create_engine\n",
    "from sqlalchemy import event, create_engine"
   ]
  },
  {
   "cell_type": "markdown",
   "metadata": {},
   "source": [
    "Extract CSV into dataframe"
   ]
  },
  {
   "cell_type": "raw",
   "metadata": {},
   "source": [
    "csv_file_2019= \"resources/data/economic/Economic_Index_Data_2019.csv\"\n",
    "csv_file_2018= \"resources/data/economic/Economic_Index_Data_2018.csv\"\n",
    "csv_file_2017= \"resources/data/economic/Economic_Index_Data_2017.csv\"\n",
    "csv_file_2016= \"resources/data/economic/Economic_Index_Data_2016.csv\"\n",
    "csv_file_2015= \"resources/data/economic/Economic_Index_Data_2015.csv\"\n",
    "csv_file_2014= \"resources/data/economic/Economic_Index_Data_2014.csv\"\n",
    "csv_file_2013= \"resources/data/economic/Economic_Index_Data_2013.csv\"\n",
    "csv_file_2012= \"resources/data/economic/Economic_Index_Data_2012.csv\"\n",
    "csv_file_2011= \"resources/data/economic/Economic_Index_Data_2011.csv\"\n",
    "csv_file_2010= \"resources/data/economic/Economic_Index_Data_2010.csv\"\n",
    "csv_file_2009= \"resources/data/economic/Economic_Index_Data_2009.csv\"\n",
    "economic_index_2019_df = pd.read_csv(csv_file_2019)\n",
    "economic_index_2018_df = pd.read_csv(csv_file_2018)\n",
    "economic_index_2017_df = pd.read_csv(csv_file_2017)\n",
    "economic_index_2016_df = pd.read_csv(csv_file_2016)\n",
    "economic_index_2015_df = pd.read_csv(csv_file_2015)\n",
    "economic_index_2014_df = pd.read_csv(csv_file_2014)\n",
    "economic_index_2013_df = pd.read_csv(csv_file_2013)\n",
    "economic_index_2012_df = pd.read_csv(csv_file_2012)\n",
    "economic_index_2011_df = pd.read_csv(csv_file_2011)\n",
    "economic_index_2010_df = pd.read_csv(csv_file_2010)\n",
    "economic_index_2009_df = pd.read_csv(csv_file_2009)"
   ]
  },
  {
   "cell_type": "markdown",
   "metadata": {},
   "source": [
    "Combining all 10 years of dataframe into a dataframe"
   ]
  },
  {
   "cell_type": "code",
   "execution_count": 49,
   "metadata": {},
   "outputs": [
    {
     "data": {
      "text/html": [
       "<div>\n",
       "<style scoped>\n",
       "    .dataframe tbody tr th:only-of-type {\n",
       "        vertical-align: middle;\n",
       "    }\n",
       "\n",
       "    .dataframe tbody tr th {\n",
       "        vertical-align: top;\n",
       "    }\n",
       "\n",
       "    .dataframe thead th {\n",
       "        text-align: right;\n",
       "    }\n",
       "</style>\n",
       "<table border=\"1\" class=\"dataframe\">\n",
       "  <thead>\n",
       "    <tr style=\"text-align: right;\">\n",
       "      <th></th>\n",
       "      <th>name</th>\n",
       "      <th>index year</th>\n",
       "      <th>overall score</th>\n",
       "      <th>property rights</th>\n",
       "      <th>government integrity</th>\n",
       "      <th>judicial effectiveness</th>\n",
       "      <th>tax burden</th>\n",
       "      <th>government spending</th>\n",
       "      <th>fiscal health</th>\n",
       "      <th>business freedom</th>\n",
       "      <th>labor freedom</th>\n",
       "      <th>monetary freedom</th>\n",
       "      <th>trade freedom</th>\n",
       "      <th>investment freedom</th>\n",
       "      <th>financial freedom</th>\n",
       "      <th>A2 (ISO)</th>\n",
       "      <th>A3 (UN)</th>\n",
       "      <th>NUM (UN)</th>\n",
       "      <th>DIALING CODE</th>\n",
       "    </tr>\n",
       "  </thead>\n",
       "  <tbody>\n",
       "    <tr>\n",
       "      <th>0</th>\n",
       "      <td>Afghanistan</td>\n",
       "      <td>2019</td>\n",
       "      <td>51.5</td>\n",
       "      <td>19.6</td>\n",
       "      <td>25.2</td>\n",
       "      <td>29.6</td>\n",
       "      <td>91.7</td>\n",
       "      <td>80.3</td>\n",
       "      <td>99.3</td>\n",
       "      <td>49.2</td>\n",
       "      <td>60.4</td>\n",
       "      <td>76.7</td>\n",
       "      <td>66.0</td>\n",
       "      <td>10.0</td>\n",
       "      <td>10.0</td>\n",
       "      <td>AF</td>\n",
       "      <td>AFG</td>\n",
       "      <td>4</td>\n",
       "      <td>93</td>\n",
       "    </tr>\n",
       "    <tr>\n",
       "      <th>1</th>\n",
       "      <td>Albania</td>\n",
       "      <td>2019</td>\n",
       "      <td>66.5</td>\n",
       "      <td>54.8</td>\n",
       "      <td>40.4</td>\n",
       "      <td>30.6</td>\n",
       "      <td>86.3</td>\n",
       "      <td>73.9</td>\n",
       "      <td>80.6</td>\n",
       "      <td>69.3</td>\n",
       "      <td>52.7</td>\n",
       "      <td>81.5</td>\n",
       "      <td>87.8</td>\n",
       "      <td>70.0</td>\n",
       "      <td>70.0</td>\n",
       "      <td>AL</td>\n",
       "      <td>ALB</td>\n",
       "      <td>8</td>\n",
       "      <td>355</td>\n",
       "    </tr>\n",
       "    <tr>\n",
       "      <th>2</th>\n",
       "      <td>Algeria</td>\n",
       "      <td>2019</td>\n",
       "      <td>46.2</td>\n",
       "      <td>31.6</td>\n",
       "      <td>28.9</td>\n",
       "      <td>36.2</td>\n",
       "      <td>76.4</td>\n",
       "      <td>48.7</td>\n",
       "      <td>18.7</td>\n",
       "      <td>61.6</td>\n",
       "      <td>49.9</td>\n",
       "      <td>74.9</td>\n",
       "      <td>67.4</td>\n",
       "      <td>30.0</td>\n",
       "      <td>30.0</td>\n",
       "      <td>DZ</td>\n",
       "      <td>DZA</td>\n",
       "      <td>12</td>\n",
       "      <td>213</td>\n",
       "    </tr>\n",
       "    <tr>\n",
       "      <th>3</th>\n",
       "      <td>Angola</td>\n",
       "      <td>2019</td>\n",
       "      <td>50.6</td>\n",
       "      <td>35.9</td>\n",
       "      <td>20.5</td>\n",
       "      <td>26.6</td>\n",
       "      <td>83.9</td>\n",
       "      <td>80.7</td>\n",
       "      <td>58.2</td>\n",
       "      <td>55.7</td>\n",
       "      <td>58.8</td>\n",
       "      <td>55.4</td>\n",
       "      <td>61.2</td>\n",
       "      <td>30.0</td>\n",
       "      <td>40.0</td>\n",
       "      <td>AO</td>\n",
       "      <td>AGO</td>\n",
       "      <td>24</td>\n",
       "      <td>244</td>\n",
       "    </tr>\n",
       "    <tr>\n",
       "      <th>4</th>\n",
       "      <td>Argentina</td>\n",
       "      <td>2019</td>\n",
       "      <td>52.2</td>\n",
       "      <td>47.8</td>\n",
       "      <td>33.5</td>\n",
       "      <td>44.5</td>\n",
       "      <td>69.3</td>\n",
       "      <td>49.5</td>\n",
       "      <td>33.0</td>\n",
       "      <td>56.4</td>\n",
       "      <td>46.9</td>\n",
       "      <td>60.2</td>\n",
       "      <td>70.0</td>\n",
       "      <td>55.0</td>\n",
       "      <td>60.0</td>\n",
       "      <td>AR</td>\n",
       "      <td>ARG</td>\n",
       "      <td>32</td>\n",
       "      <td>54</td>\n",
       "    </tr>\n",
       "  </tbody>\n",
       "</table>\n",
       "</div>"
      ],
      "text/plain": [
       "          name  index year  overall score  property rights  \\\n",
       "0  Afghanistan        2019           51.5             19.6   \n",
       "1      Albania        2019           66.5             54.8   \n",
       "2      Algeria        2019           46.2             31.6   \n",
       "3       Angola        2019           50.6             35.9   \n",
       "4    Argentina        2019           52.2             47.8   \n",
       "\n",
       "   government integrity  judicial effectiveness  tax burden  \\\n",
       "0                  25.2                    29.6        91.7   \n",
       "1                  40.4                    30.6        86.3   \n",
       "2                  28.9                    36.2        76.4   \n",
       "3                  20.5                    26.6        83.9   \n",
       "4                  33.5                    44.5        69.3   \n",
       "\n",
       "   government spending  fiscal health  business freedom  labor freedom  \\\n",
       "0                 80.3           99.3              49.2           60.4   \n",
       "1                 73.9           80.6              69.3           52.7   \n",
       "2                 48.7           18.7              61.6           49.9   \n",
       "3                 80.7           58.2              55.7           58.8   \n",
       "4                 49.5           33.0              56.4           46.9   \n",
       "\n",
       "   monetary freedom  trade freedom  investment freedom  financial freedom  \\\n",
       "0              76.7           66.0                10.0               10.0   \n",
       "1              81.5           87.8                70.0               70.0   \n",
       "2              74.9           67.4                30.0               30.0   \n",
       "3              55.4           61.2                30.0               40.0   \n",
       "4              60.2           70.0                55.0               60.0   \n",
       "\n",
       "  A2 (ISO) A3 (UN)  NUM (UN) DIALING CODE  \n",
       "0       AF     AFG         4           93  \n",
       "1       AL     ALB         8          355  \n",
       "2       DZ     DZA        12          213  \n",
       "3       AO     AGO        24          244  \n",
       "4       AR     ARG        32           54  "
      ]
     },
     "execution_count": 49,
     "metadata": {},
     "output_type": "execute_result"
    }
   ],
   "source": [
    "frames=[economic_index_2019_df,economic_index_2018_df,economic_index_2017_df,economic_index_2016_df,economic_index_2015_df,economic_index_2014_df,economic_index_2013_df,economic_index_2012_df,economic_index_2011_df,economic_index_2010_df,economic_index_2009_df]\n",
    "economic_index_df=pd.concat(frames)\n",
    "economic_index_df.head()"
   ]
  },
  {
   "cell_type": "markdown",
   "metadata": {},
   "source": [
    "Establish connection to local Database"
   ]
  },
  {
   "cell_type": "code",
   "execution_count": 57,
   "metadata": {},
   "outputs": [],
   "source": [
    "# Establish Connection\n",
    "\n",
    "rds_connection_string = \"root:Happy123$@localhost/\"\n",
    "engine = create_engine(f'mysql://{rds_connection_string}')"
   ]
  },
  {
   "cell_type": "code",
   "execution_count": 60,
   "metadata": {},
   "outputs": [],
   "source": [
    "# Set engine connection\n",
    "connection = engine.connect()"
   ]
  },
  {
   "cell_type": "code",
   "execution_count": 65,
   "metadata": {},
   "outputs": [],
   "source": [
    "# Create new database economic_index_db\n",
    "#connection.execute('CREATE DATABASE economic_index_db;')"
   ]
  },
  {
   "cell_type": "markdown",
   "metadata": {},
   "source": [
    "Connect to the database economic_index_db"
   ]
  },
  {
   "cell_type": "code",
   "execution_count": 69,
   "metadata": {},
   "outputs": [],
   "source": [
    "rds_connection_string = \"root:Happy123$@localhost/economic_index_db\"\n",
    "engine = create_engine(f'mysql://{rds_connection_string}')"
   ]
  },
  {
   "cell_type": "markdown",
   "metadata": {},
   "source": [
    "Use pandas to load csv converted DataFrame into database"
   ]
  },
  {
   "cell_type": "code",
   "execution_count": 67,
   "metadata": {},
   "outputs": [],
   "source": [
    "# Populate economic_index_db table\n",
    "economic_index_df.to_sql(name='economic_index',con=engine,if_exists='append',index=False)"
   ]
  },
  {
   "cell_type": "code",
   "execution_count": 70,
   "metadata": {},
   "outputs": [
    {
     "data": {
      "text/plain": [
       "['economic_index']"
      ]
     },
     "execution_count": 70,
     "metadata": {},
     "output_type": "execute_result"
    }
   ],
   "source": [
    "engine.table_names()\n"
   ]
  },
  {
   "cell_type": "code",
   "execution_count": null,
   "metadata": {},
   "outputs": [],
   "source": []
  }
 ],
 "metadata": {
  "kernelspec": {
   "display_name": "Python 3",
   "language": "python",
   "name": "python3"
  },
  "language_info": {
   "codemirror_mode": {
    "name": "ipython",
    "version": 3
   },
   "file_extension": ".py",
   "mimetype": "text/x-python",
   "name": "python",
   "nbconvert_exporter": "python",
   "pygments_lexer": "ipython3",
   "version": "3.7.1"
  }
 },
 "nbformat": 4,
 "nbformat_minor": 2
}
